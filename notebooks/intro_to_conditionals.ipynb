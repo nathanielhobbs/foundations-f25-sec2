{
 "cells": [
  {
   "cell_type": "markdown",
   "id": "ee20f715",
   "metadata": {},
   "source": [
    "# Contitionals (if/elif/else)\n",
    "\n",
    "Contitionals are words in the language that allows parts of the program to run depending on the conditions.\n",
    "\n",
    "The full syntax is\n",
    "```python\n",
    "\n",
    "if <statment is True>: # check boolean statement\n",
    "    # code block\n",
    "elif <another statement is True>: # check another boolean statement\n",
    "    # code block\n",
    "elif ...\n",
    "else: # the default if all else fails\n",
    "    # code block\n",
    "```"
   ]
  },
  {
   "cell_type": "code",
   "execution_count": 1,
   "id": "0a2b6564",
   "metadata": {},
   "outputs": [
    {
     "name": "stdout",
     "output_type": "stream",
     "text": [
      "negative\n"
     ]
    }
   ],
   "source": [
    "x = -10\n",
    "if x > 0:\n",
    "    print('positive')\n",
    "else:\n",
    "    print('negative')"
   ]
  },
  {
   "cell_type": "code",
   "execution_count": 10,
   "id": "4c130b99",
   "metadata": {},
   "outputs": [
    {
     "name": "stdout",
     "output_type": "stream",
     "text": [
      "medium\n"
     ]
    }
   ],
   "source": [
    "x = 50\n",
    "\n",
    "if x > 100:\n",
    "    print('big')\n",
    "elif x > 0:\n",
    "    print('medium')\n",
    "else:\n",
    "    print('small')"
   ]
  },
  {
   "cell_type": "code",
   "execution_count": null,
   "id": "012e16a4",
   "metadata": {},
   "outputs": [
    {
     "name": "stdout",
     "output_type": "stream",
     "text": [
      "odd\n"
     ]
    }
   ],
   "source": [
    "x = 3\n",
    "if x % 2 == 0:\n",
    "    print('even')\n",
    "else:\n",
    "    print('odd')"
   ]
  },
  {
   "cell_type": "code",
   "execution_count": 7,
   "id": "99b448dc",
   "metadata": {},
   "outputs": [
    {
     "name": "stdout",
     "output_type": "stream",
     "text": [
      "2.5\n",
      "2\n",
      "1\n"
     ]
    }
   ],
   "source": [
    "print(5/2)\n",
    "print(5//2)\n",
    "print(5%2)"
   ]
  },
  {
   "cell_type": "code",
   "execution_count": null,
   "id": "cd169ec8",
   "metadata": {},
   "outputs": [
    {
     "name": "stdout",
     "output_type": "stream",
     "text": [
      "3\n",
      "2\n"
     ]
    }
   ],
   "source": [
    "def roundUp(x,y):\n",
    "    left_over = x % y\n",
    "    if left_over > 0:\n",
    "        return  x//y + 1\n",
    "    else:\n",
    "        return x//y\n",
    "\n",
    "print(roundUp(5,2))\n",
    "print(roundUp(4,2))\n"
   ]
  },
  {
   "cell_type": "markdown",
   "id": "dc038005",
   "metadata": {},
   "source": [
    "## Nested conditionals and their (and/or) equivalent\n",
    "\n",
    "There's mulitple valid ways to reach a conlusion of True/False with multiple \"parts\" of the statement."
   ]
  },
  {
   "cell_type": "code",
   "execution_count": 12,
   "id": "cc90cedc",
   "metadata": {},
   "outputs": [
    {
     "name": "stdout",
     "output_type": "stream",
     "text": [
      "4 is small and also even\n"
     ]
    }
   ],
   "source": [
    "def xIsSmallAndeEven(x):\n",
    "    if x < 100:\n",
    "        if x % 2 == 0:\n",
    "            print(str(x)+' is small and also even')\n",
    "\n",
    "xIsSmallAndeEven(4)\n",
    "xIsSmallAndeEven(5)\n",
    "xIsSmallAndeEven(1024)"
   ]
  },
  {
   "cell_type": "code",
   "execution_count": 4,
   "id": "7d51ba34",
   "metadata": {},
   "outputs": [
    {
     "name": "stdout",
     "output_type": "stream",
     "text": [
      "4 is small and also even\n"
     ]
    }
   ],
   "source": [
    "def xIsSmallAndePos(x):\n",
    "    if x < 100 and x % 2 == 0:\n",
    "            print(str(x)+' is small and also even')\n",
    "\n",
    "xIsSmallAndePos(4)\n",
    "xIsSmallAndePos(5)\n",
    "xIsSmallAndePos(1024)"
   ]
  },
  {
   "cell_type": "code",
   "execution_count": null,
   "id": "e660dc4d",
   "metadata": {},
   "outputs": [
    {
     "name": "stdout",
     "output_type": "stream",
     "text": [
      "x is small and also even\n"
     ]
    }
   ],
   "source": [
    "def xIsSmallAndePos(x):\n",
    "        if x < 100 and not x % 2 == 1:\n",
    "            print(str(x)+' is small and also even')\n",
    "\n",
    "xIsSmallAndePos(4)\n",
    "xIsSmallAndePos(5)\n",
    "xIsSmallAndePos(1024)"
   ]
  },
  {
   "cell_type": "code",
   "execution_count": 5,
   "id": "36a17673",
   "metadata": {},
   "outputs": [
    {
     "name": "stdout",
     "output_type": "stream",
     "text": [
      "4 is small and also even\n"
     ]
    }
   ],
   "source": [
    "def xIsSmallAndePos(x):\n",
    "        if x < 100 and not x % 2:\n",
    "            print(str(x)+' is small and also even')\n",
    "\n",
    "xIsSmallAndePos(4)\n",
    "xIsSmallAndePos(5)\n",
    "xIsSmallAndePos(1024)"
   ]
  },
  {
   "cell_type": "markdown",
   "id": "6d2a0fd6",
   "metadata": {},
   "source": [
    "## python is a \"truthy\" language\n",
    "\n",
    "This means that the types in python can *sometimes* intermingle"
   ]
  },
  {
   "cell_type": "code",
   "execution_count": null,
   "id": "4fcc43c5",
   "metadata": {},
   "outputs": [
    {
     "name": "stdout",
     "output_type": "stream",
     "text": [
      "2\n",
      "True\n",
      "True\n",
      "False\n"
     ]
    }
   ],
   "source": [
    "print(1 + True) # \"behaves like\" 1 + 1\n",
    "\n",
    "print(1 == True) # \"behaves like\" True == True\n",
    "\n",
    "print(0==False) # \"behaves like\" False == False\n",
    "\n",
    "print(''==False) # \"behaves like\" ...."
   ]
  },
  {
   "cell_type": "code",
   "execution_count": 14,
   "id": "ddcd7aa9",
   "metadata": {},
   "outputs": [
    {
     "name": "stdout",
     "output_type": "stream",
     "text": [
      "x is small\n",
      "x is positive\n",
      "x is small\n",
      "x is positive\n"
     ]
    }
   ],
   "source": [
    "def xIsSmallOrPos(x):\n",
    "    if x < 100:\n",
    "        print('x is small')\n",
    "    if x % 2 == 0:\n",
    "        print('x is positive')\n",
    "        \n",
    "\n",
    "xIsSmallOrPos(4)\n",
    "xIsSmallOrPos(5)\n",
    "xIsSmallOrPos(1024)"
   ]
  },
  {
   "cell_type": "code",
   "execution_count": 15,
   "id": "388183a8",
   "metadata": {},
   "outputs": [
    {
     "name": "stdout",
     "output_type": "stream",
     "text": [
      "x is small or positive (not sure which)\n",
      "x is small or positive (not sure which)\n",
      "x is small or positive (not sure which)\n"
     ]
    }
   ],
   "source": [
    "def xIsSmallOrPos(x):\n",
    "    if x < 100 or x % 2 == 0:\n",
    "        print('x is small or positive (not sure which)')        \n",
    "\n",
    "xIsSmallOrPos(4)\n",
    "xIsSmallOrPos(5)\n",
    "xIsSmallOrPos(1024)"
   ]
  },
  {
   "cell_type": "markdown",
   "id": "d3593dff",
   "metadata": {},
   "source": [
    "# Single line if/else\n",
    "\n",
    "if A:\n",
    "   line_a\n",
    "else:\n",
    "    line_b\n",
    "\n",
    "can be compressed to\n",
    "\n",
    "line_a if A else line_b"
   ]
  },
  {
   "cell_type": "code",
   "execution_count": 1,
   "id": "7c6ad402",
   "metadata": {},
   "outputs": [
    {
     "name": "stdout",
     "output_type": "stream",
     "text": [
      "small\n"
     ]
    }
   ],
   "source": [
    "x = 0\n",
    "if x > 10:\n",
    "    print('big')\n",
    "else:\n",
    "    print('small')"
   ]
  },
  {
   "cell_type": "code",
   "execution_count": 3,
   "id": "dbbb19dc",
   "metadata": {},
   "outputs": [
    {
     "name": "stdout",
     "output_type": "stream",
     "text": [
      "small\n",
      "small\n"
     ]
    }
   ],
   "source": [
    "x = 0\n",
    "\n",
    "print('big') if x > 10 else print('small')\n",
    "\n",
    "print('big' if x>10 else 'small')\n",
    "        "
   ]
  },
  {
   "cell_type": "markdown",
   "id": "e108b290",
   "metadata": {},
   "source": [
    "# Practice\n",
    "\n",
    "Write a function called \"smallPowerOfTwo(x)\" which takes a single integer as input, x, and returns the string \"small power of 2\" if x is 2, 4, 8, 16, 32, 64, 128, or 256.  For all other x, the function should output \"not small power of 2\"."
   ]
  },
  {
   "cell_type": "code",
   "execution_count": null,
   "id": "0b0ddf11",
   "metadata": {},
   "outputs": [],
   "source": [
    "def smallPowerOfTwo(x: int) -> str:\n",
    "    if x == 2 or x == 4 or x == 8 or x ==16 or x == 32 or x == 64 or x == 128 or x == 256 and x%2==0:\n",
    "        print('small power of two')\n",
    "    else:\n",
    "        print('not small power of two')"
   ]
  },
  {
   "cell_type": "code",
   "execution_count": null,
   "id": "b19b1522",
   "metadata": {},
   "outputs": [],
   "source": [
    "def smallPowerOfTwo(x: int) -> str:\n",
    "    if x == 2 or x == 4 or x == 8 or x ==16 or x == 32 or x == 64 or x == 128 or x == 256:\n",
    "        print('small power of two')\n",
    "    else:\n",
    "        print('not small power of two')"
   ]
  },
  {
   "cell_type": "code",
   "execution_count": null,
   "id": "c4c279de",
   "metadata": {},
   "outputs": [],
   "source": [
    "def smallPowerOfTwo(x: int) -> str:\n",
    "    if x == 2:\n",
    "        print('small power of two')\n",
    "    elif x == 4:\n",
    "        print('small power of two')\n",
    "    elif x == 8:\n",
    "        print('small power of two')\n",
    "    elif x == 16:\n",
    "        print('small power of two')\n",
    "    elif x == 32:\n",
    "        print('small power of two')\n",
    "    elif x == 64:\n",
    "        print('small power of two')\n",
    "    elif x == 128:\n",
    "        print('small power of two')\n",
    "    elif x == 256:\n",
    "        print('small power of two')\n",
    "    else:\n",
    "        print('not small power of two')"
   ]
  },
  {
   "cell_type": "code",
   "execution_count": 4,
   "id": "01ff3b20",
   "metadata": {},
   "outputs": [],
   "source": [
    "def smallPowerOfTwo(x: int) -> str:\n",
    "    if x in [2,4,8,16,32,64,128,256]:\n",
    "        print('small power of two')\n",
    "    else:\n",
    "        print('not small power of two')"
   ]
  },
  {
   "cell_type": "markdown",
   "id": "ad7c72b6",
   "metadata": {},
   "source": [
    "## Single line conditionals"
   ]
  },
  {
   "cell_type": "code",
   "execution_count": 1,
   "id": "f0c407a2",
   "metadata": {},
   "outputs": [
    {
     "name": "stdout",
     "output_type": "stream",
     "text": [
      "positive\n"
     ]
    }
   ],
   "source": [
    "x = 10\n",
    "\n",
    "if x > 0:\n",
    "    sign = 'positive'\n",
    "else:\n",
    "    sign = 'negative'\n",
    "\n",
    "print(sign)"
   ]
  },
  {
   "cell_type": "code",
   "execution_count": 2,
   "id": "09993e1f",
   "metadata": {},
   "outputs": [
    {
     "name": "stdout",
     "output_type": "stream",
     "text": [
      "postive\n"
     ]
    }
   ],
   "source": [
    "x = 10\n",
    "\n",
    "sign = 'postive' if x > 0 else 'negative'\n",
    "\n",
    "\n",
    "print(sign)"
   ]
  }
 ],
 "metadata": {
  "kernelspec": {
   "display_name": "engravings",
   "language": "python",
   "name": "python3"
  },
  "language_info": {
   "codemirror_mode": {
    "name": "ipython",
    "version": 3
   },
   "file_extension": ".py",
   "mimetype": "text/x-python",
   "name": "python",
   "nbconvert_exporter": "python",
   "pygments_lexer": "ipython3",
   "version": "3.12.7"
  }
 },
 "nbformat": 4,
 "nbformat_minor": 5
}
