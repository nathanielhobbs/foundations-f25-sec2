{
 "cells": [
  {
   "cell_type": "markdown",
   "id": "a45fc4f4",
   "metadata": {},
   "source": [
    "# Functions\n",
    "\n",
    "A function (also called a \"method\") is a transformation between input and output.  \n",
    "\n",
    "Functions can have no inputs, 1 input, many inputs. Inputs can be named or not. Inputs can be optional or required. \n",
    "\n",
    "Functions in python *must have at least one output*, but it may have more."
   ]
  },
  {
   "cell_type": "code",
   "execution_count": 1,
   "id": "5eba5a93",
   "metadata": {},
   "outputs": [],
   "source": [
    "def firstFunction():\n",
    "    pass"
   ]
  },
  {
   "cell_type": "markdown",
   "id": "4dfaf5f2",
   "metadata": {},
   "source": [
    "Funtions in python begin with the word \"def\" and then a white space, then the name of the function, then paratheses (), which are for the inputs/arguments/parameters of the function, then a colon.\n",
    "\n",
    "A *block* is a collection of code that is meant to be grouped together.  These are specified in python with white space."
   ]
  },
  {
   "cell_type": "markdown",
   "id": "c9f3dfcd",
   "metadata": {},
   "source": [
    "The *pass* word is just a throw away word in python for making the grammar checker happy.  It's for things that aren't finished yet, but you don't want the python interpreter to complain.\n",
    "\n",
    "Below, we show what happens if you *don't* use the \"pass\" word. The interpreter will complain about a function definition needing *something* there to define it."
   ]
  },
  {
   "cell_type": "code",
   "execution_count": 2,
   "id": "d0ea313f",
   "metadata": {},
   "outputs": [
    {
     "ename": "SyntaxError",
     "evalue": "incomplete input (3388015951.py, line 2)",
     "output_type": "error",
     "traceback": [
      "\u001b[0;36m  Cell \u001b[0;32mIn[2], line 2\u001b[0;36m\u001b[0m\n\u001b[0;31m    \u001b[0m\n\u001b[0m    ^\u001b[0m\n\u001b[0;31mSyntaxError\u001b[0m\u001b[0;31m:\u001b[0m incomplete input\n"
     ]
    }
   ],
   "source": [
    "def firstFunction():\n",
    "    "
   ]
  },
  {
   "cell_type": "code",
   "execution_count": null,
   "id": "52e9094b",
   "metadata": {},
   "outputs": [
    {
     "ename": "SyntaxError",
     "evalue": "expected ':' (3315415717.py, line 1)",
     "output_type": "error",
     "traceback": [
      "\u001b[0;36m  Cell \u001b[0;32mIn[1], line 1\u001b[0;36m\u001b[0m\n\u001b[0;31m    def firstFunction()\u001b[0m\n\u001b[0m                       ^\u001b[0m\n\u001b[0;31mSyntaxError\u001b[0m\u001b[0;31m:\u001b[0m expected ':'\n"
     ]
    }
   ],
   "source": [
    "def firstFunction()\n",
    "    pass"
   ]
  },
  {
   "cell_type": "markdown",
   "id": "31bbac47",
   "metadata": {},
   "source": [
    "The above shows a \"punction error\" in python, that is, the missing colon is a syntax (that is, grammatical) error."
   ]
  },
  {
   "cell_type": "code",
   "execution_count": 2,
   "id": "592a75c1",
   "metadata": {},
   "outputs": [
    {
     "ename": "IndentationError",
     "evalue": "expected an indented block after function definition on line 1 (2002081208.py, line 2)",
     "output_type": "error",
     "traceback": [
      "\u001b[0;36m  Cell \u001b[0;32mIn[2], line 2\u001b[0;36m\u001b[0m\n\u001b[0;31m    pass\u001b[0m\n\u001b[0m    ^\u001b[0m\n\u001b[0;31mIndentationError\u001b[0m\u001b[0;31m:\u001b[0m expected an indented block after function definition on line 1\n"
     ]
    }
   ],
   "source": [
    "def firstFunction():\n",
    "pass"
   ]
  },
  {
   "cell_type": "markdown",
   "id": "af86f79c",
   "metadata": {},
   "source": [
    "The above shows the importance of *white space* in python for grouping code together. This group is called a \"block\"."
   ]
  },
  {
   "cell_type": "markdown",
   "id": "ec5b36b7",
   "metadata": {},
   "source": [
    "The number of spaces doesn't matter, on one hand, e.g., below we will show that the python interpreter doesn't care sometimes."
   ]
  },
  {
   "cell_type": "code",
   "execution_count": 5,
   "id": "aff31482",
   "metadata": {},
   "outputs": [],
   "source": [
    "def firstFunction():\n",
    " pass # one space\n",
    "\n",
    "def firstFunction():\n",
    "  pass # two space\n",
    "\n",
    "def firstFunction():\n",
    "   pass # three space\n",
    "\n",
    "def firstFunction():\n",
    "    pass # four space"
   ]
  },
  {
   "cell_type": "markdown",
   "id": "8027b8a6",
   "metadata": {},
   "source": [
    "However, there are times when the number of spaces matter *within a block*.  Here you must be consistant.  The python interpreter will complain (crash), e.g. below"
   ]
  },
  {
   "cell_type": "code",
   "execution_count": null,
   "id": "0a8df8e6",
   "metadata": {},
   "outputs": [
    {
     "ename": "IndentationError",
     "evalue": "unexpected indent (2034458936.py, line 4)",
     "output_type": "error",
     "traceback": [
      "\u001b[0;36m  Cell \u001b[0;32mIn[11], line 4\u001b[0;36m\u001b[0m\n\u001b[0;31m    print('second thing the func does') # one space\u001b[0m\n\u001b[0m    ^\u001b[0m\n\u001b[0;31mIndentationError\u001b[0m\u001b[0;31m:\u001b[0m unexpected indent\n"
     ]
    }
   ],
   "source": [
    "# here is the function definition (this is a definition *not* \"using/calling/executing\")\n",
    "def firstFunction():\n",
    " print('first thing the func does') # one space\n",
    "  print('second thing the func does') # two spaces\n",
    "\n",
    "# This is running/calling/executing/using the function\n",
    "firstFunction()"
   ]
  },
  {
   "cell_type": "markdown",
   "id": "7762a1ae",
   "metadata": {},
   "source": [
    "## Function definitions vs excecutions\n",
    "\n",
    "A function definition happens once.  This where lines of code are \"wrapped up\" (put into a block) in a small name (the name of the function) to be run again and again.\n",
    "\n",
    "Then there is *executing* the function. This is making the function \"go\". Jargon: execute, run, invoke, use are all words that mean the same thing."
   ]
  },
  {
   "cell_type": "code",
   "execution_count": 10,
   "id": "da741277",
   "metadata": {},
   "outputs": [
    {
     "name": "stdout",
     "output_type": "stream",
     "text": [
      "first thing the func does\n",
      "second thing the func does\n",
      "\n",
      "first thing the func does\n",
      "second thing the func does\n",
      "hello, there\n"
     ]
    }
   ],
   "source": [
    "# here is the function definition (this is a definition *not* \"using/calling/executing\")\n",
    "def firstFunction():\n",
    "    print('first thing the func does') # one space\n",
    "    print('second thing the func does') # one space\n",
    "\n",
    "\n",
    "# This is running/calling/executing/using/invoking the function\n",
    "firstFunction()\n",
    "print()\n",
    "\n",
    "firstFunction()\n",
    "print('hello, there')"
   ]
  },
  {
   "cell_type": "markdown",
   "id": "648921c2",
   "metadata": {},
   "source": [
    "## Function outputs\n",
    "\n",
    "All functions in python have an output. The way to specify a function's output is with the word \"return\".  There is a default value of \"None\"\n",
    "\n",
    "\"None\" is a word in python that is a special type for representing \"nothing\".  Other languages use e.g. null, but python likes to use a more human-like language."
   ]
  },
  {
   "cell_type": "code",
   "execution_count": null,
   "id": "d294a262",
   "metadata": {},
   "outputs": [
    {
     "name": "stdout",
     "output_type": "stream",
     "text": [
      "hi bob\n"
     ]
    }
   ],
   "source": [
    "def returnHi(name):\n",
    "    return 'hi' + ' ' + name\n",
    "\n",
    "returnHi('alice') # this string is never used. it gets \"thrown out\"\n",
    "print(returnHi('bob'))"
   ]
  },
  {
   "cell_type": "code",
   "execution_count": null,
   "id": "59a7ef7c",
   "metadata": {},
   "outputs": [
    {
     "name": "stdout",
     "output_type": "stream",
     "text": [
      "hi alice\n",
      "hi bob\n",
      "None\n"
     ]
    }
   ],
   "source": [
    "# this function does not have an explicit return statement\n",
    "# so it assumes the default return value\n",
    "def printHi(name): \n",
    "    print('hi', name)\n",
    "\n",
    "printHi('alice')\n",
    "print(printHi('bob')) # this line results in 'hi bob' and None"
   ]
  },
  {
   "cell_type": "code",
   "execution_count": 18,
   "id": "aafb8418",
   "metadata": {},
   "outputs": [
    {
     "name": "stdout",
     "output_type": "stream",
     "text": [
      "hi alice\n",
      "hi bob\n",
      "None\n"
     ]
    }
   ],
   "source": [
    "# this is doing the exact same as the above function, but we'll make the return value explicit\n",
    "def printHi(name):\n",
    "    print('hi', name)\n",
    "    return None\n",
    "\n",
    "printHi('alice')\n",
    "print(printHi('bob')) # this line results in 'hi bob' and None"
   ]
  },
  {
   "cell_type": "markdown",
   "id": "57bb0ae6",
   "metadata": {},
   "source": [
    "#### Function outputs are tuples\n",
    "\n",
    "A function can have \"multiple outputs\" (these are separated with a comma after the word return), but this is actually a single collection: a tuple."
   ]
  },
  {
   "cell_type": "code",
   "execution_count": 23,
   "id": "cf250277",
   "metadata": {},
   "outputs": [
    {
     "name": "stdout",
     "output_type": "stream",
     "text": [
      "(3, 4, 7)\n",
      "the first output is 5 the second output is 1 and added together they are 6\n",
      "11\n",
      "the first output is 5 the second output is 6 and added together they are 11\n"
     ]
    }
   ],
   "source": [
    "def twoSum(a,b):\n",
    "    return a, b, a+b\n",
    "\n",
    "print(twoSum(3,4)) # this will print the tuple (3, 4, 7)\n",
    "\n",
    "# you can \"capture\" multiple outputs on a single line separating variable names with a comma\n",
    "first, second, third = twoSum(5,1)\n",
    "print('the first output is', first, 'the second output is', second, 'and added together they are', third)\n",
    "\n",
    "# if you don't need something, you can throw it away with the special character _\n",
    "# this makes code look cleaner and helps your program not grow in size (less to remember)\n",
    "_,_,i_only_care_about_you_sum = twoSum(10, 1)\n",
    "print(i_only_care_about_you_sum)\n",
    "\n",
    "# of course you can access the outputs treating the returned tuple as a tuple\n",
    "outputs = twoSum(5,6)\n",
    "print('the first output is', outputs[0], 'the second output is', outputs[1], 'and added together they are', outputs[2])\n"
   ]
  },
  {
   "cell_type": "markdown",
   "id": "0daaba4b",
   "metadata": {},
   "source": [
    "## Function inputs\n",
    "\n",
    "Inputs (also called arguments) to functions in python can be done in many ways.  You can make inputs that are required (these are \"positional\").  Inputs can also be optional, these come in three varieties: keyword, *args, and **kwargs. But we'll talk about these in a moment. \n",
    "\n",
    "First, let's look at positional arguments (these are inputs that your function requires to work)"
   ]
  },
  {
   "cell_type": "code",
   "execution_count": null,
   "id": "34f88144",
   "metadata": {},
   "outputs": [
    {
     "name": "stdout",
     "output_type": "stream",
     "text": [
      "hi alice stevens\n"
     ]
    },
    {
     "ename": "TypeError",
     "evalue": "returnHi() missing 1 required positional argument: 'last_name'",
     "output_type": "error",
     "traceback": [
      "\u001b[0;31m---------------------------------------------------------------------------\u001b[0m",
      "\u001b[0;31mTypeError\u001b[0m                                 Traceback (most recent call last)",
      "Cell \u001b[0;32mIn[25], line 5\u001b[0m\n\u001b[1;32m      2\u001b[0m     \u001b[38;5;28;01mreturn\u001b[39;00m \u001b[38;5;124m'\u001b[39m\u001b[38;5;124mhi\u001b[39m\u001b[38;5;124m'\u001b[39m \u001b[38;5;241m+\u001b[39m \u001b[38;5;124m'\u001b[39m\u001b[38;5;124m \u001b[39m\u001b[38;5;124m'\u001b[39m \u001b[38;5;241m+\u001b[39m first_name \u001b[38;5;241m+\u001b[39m \u001b[38;5;124m'\u001b[39m\u001b[38;5;124m \u001b[39m\u001b[38;5;124m'\u001b[39m \u001b[38;5;241m+\u001b[39m last_name\n\u001b[1;32m      4\u001b[0m \u001b[38;5;28mprint\u001b[39m(returnHi(\u001b[38;5;124m'\u001b[39m\u001b[38;5;124malice\u001b[39m\u001b[38;5;124m'\u001b[39m, \u001b[38;5;124m'\u001b[39m\u001b[38;5;124mstevens\u001b[39m\u001b[38;5;124m'\u001b[39m))\n\u001b[0;32m----> 5\u001b[0m \u001b[38;5;28mprint\u001b[39m(\u001b[43mreturnHi\u001b[49m\u001b[43m(\u001b[49m\u001b[38;5;124;43m'\u001b[39;49m\u001b[38;5;124;43mstevens\u001b[39;49m\u001b[38;5;124;43m'\u001b[39;49m\u001b[43m)\u001b[49m)\n",
      "\u001b[0;31mTypeError\u001b[0m: returnHi() missing 1 required positional argument: 'last_name'"
     ]
    }
   ],
   "source": [
    "def returnHi(first_name, last_name):\n",
    "    return 'hi' + ' ' + first_name + ' ' + last_name\n",
    "\n",
    "print(returnHi('alice', 'stevens'))\n",
    "print(returnHi('stevens'))"
   ]
  },
  {
   "cell_type": "markdown",
   "id": "3672075b",
   "metadata": {},
   "source": [
    "#### keyword arguments make an input optional and (mostly) position independent"
   ]
  },
  {
   "cell_type": "code",
   "execution_count": 28,
   "id": "f3a546ba",
   "metadata": {},
   "outputs": [
    {
     "name": "stdout",
     "output_type": "stream",
     "text": [
      "hi alice stevens\n",
      "hi john doe\n",
      "hi alice doe\n",
      "hi john alice\n"
     ]
    }
   ],
   "source": [
    "def returnHiWithDefault(first_name='john', last_name='doe'):\n",
    "    return 'hi' + ' ' + first_name + ' ' + last_name\n",
    "\n",
    "print(returnHiWithDefault('alice', 'stevens'))\n",
    "\n",
    "print(returnHiWithDefault()) # this takes the default values for both first and last name\n",
    "\n",
    "print(returnHiWithDefault('alice')) # this takes the default value for last_name and uses 'alice' as a positional argument\n",
    "\n",
    "print(returnHiWithDefault(last_name='alice')) # this takes the default value for last_name and uses 'alice' as a positional argument"
   ]
  },
  {
   "cell_type": "markdown",
   "id": "f8041bdf",
   "metadata": {},
   "source": [
    "### *args\n",
    "\n",
    "The * character can be used on one input to \"upgrade it\" be a collection of inputs.  That is, this allows your function to have a *variable number* of inputs.  These are also optional."
   ]
  },
  {
   "cell_type": "code",
   "execution_count": null,
   "id": "a7101e83",
   "metadata": {},
   "outputs": [
    {
     "name": "stdout",
     "output_type": "stream",
     "text": [
      "4 5 ()\n",
      "4 5 (80, 234, 234, 234, 1123)\n"
     ]
    }
   ],
   "source": [
    "def twoOrMoreSum(a,b,*args):\n",
    "    print(a,b,args)\n",
    "\n",
    "twoOrMoreSum(4,5)\n",
    "twoOrMoreSum(4,5, 80, 234, 234,234,1123)\n"
   ]
  },
  {
   "cell_type": "markdown",
   "id": "b07bba25",
   "metadata": {},
   "source": [
    "### Required arguments must come first"
   ]
  },
  {
   "cell_type": "code",
   "execution_count": null,
   "id": "48e04653",
   "metadata": {},
   "outputs": [],
   "source": [
    "def returnHi(first_name, last_name='doe'):\n",
    "    return 'hi' + ' ' + first_name + ' ' + last_name"
   ]
  },
  {
   "cell_type": "code",
   "execution_count": 32,
   "id": "28a50aba",
   "metadata": {},
   "outputs": [
    {
     "ename": "SyntaxError",
     "evalue": "parameter without a default follows parameter with a default (4108052778.py, line 1)",
     "output_type": "error",
     "traceback": [
      "\u001b[0;36m  Cell \u001b[0;32mIn[32], line 1\u001b[0;36m\u001b[0m\n\u001b[0;31m    def returnHi(last_name='doe',first_name):\u001b[0m\n\u001b[0m                                 ^\u001b[0m\n\u001b[0;31mSyntaxError\u001b[0m\u001b[0;31m:\u001b[0m parameter without a default follows parameter with a default\n"
     ]
    }
   ],
   "source": [
    "def returnHi(last_name='doe',first_name):\n",
    "    return 'hi' + ' ' + first_name + ' ' + last_name"
   ]
  },
  {
   "cell_type": "markdown",
   "id": "78af1ce6",
   "metadata": {},
   "source": [
    "#### This produces an interesting error. It's not clear at first what's going on. I leave this to you as an excercise"
   ]
  },
  {
   "cell_type": "code",
   "execution_count": 33,
   "id": "5a830a05",
   "metadata": {},
   "outputs": [
    {
     "ename": "TypeError",
     "evalue": "twoOrMoreSum() missing 2 required keyword-only arguments: 'a' and 'b'",
     "output_type": "error",
     "traceback": [
      "\u001b[0;31m---------------------------------------------------------------------------\u001b[0m",
      "\u001b[0;31mTypeError\u001b[0m                                 Traceback (most recent call last)",
      "Cell \u001b[0;32mIn[33], line 4\u001b[0m\n\u001b[1;32m      1\u001b[0m \u001b[38;5;28;01mdef\u001b[39;00m \u001b[38;5;21mtwoOrMoreSum\u001b[39m(\u001b[38;5;241m*\u001b[39margs,a,b):\n\u001b[1;32m      2\u001b[0m     \u001b[38;5;28mprint\u001b[39m(a,b,args)\n\u001b[0;32m----> 4\u001b[0m \u001b[43mtwoOrMoreSum\u001b[49m\u001b[43m(\u001b[49m\u001b[38;5;241;43m4\u001b[39;49m\u001b[43m,\u001b[49m\u001b[38;5;241;43m5\u001b[39;49m\u001b[43m)\u001b[49m\n\u001b[1;32m      5\u001b[0m twoOrMoreSum(\u001b[38;5;241m4\u001b[39m,\u001b[38;5;241m5\u001b[39m, \u001b[38;5;241m80\u001b[39m, \u001b[38;5;241m234\u001b[39m, \u001b[38;5;241m234\u001b[39m,\u001b[38;5;241m234\u001b[39m,\u001b[38;5;241m1123\u001b[39m)\n",
      "\u001b[0;31mTypeError\u001b[0m: twoOrMoreSum() missing 2 required keyword-only arguments: 'a' and 'b'"
     ]
    }
   ],
   "source": [
    "def twoOrMoreSum(*args,a,b):\n",
    "    print(a,b,args)\n",
    "\n",
    "twoOrMoreSum(4,5)\n",
    "twoOrMoreSum(4,5, 80, 234, 234,234,1123)"
   ]
  },
  {
   "cell_type": "markdown",
   "id": "416da303",
   "metadata": {},
   "source": [
    "# **kwargs\n",
    "\n",
    "A variable with two astrisks ** is imbued with being a keyword collection."
   ]
  },
  {
   "cell_type": "code",
   "execution_count": 34,
   "id": "242fc8f2",
   "metadata": {},
   "outputs": [
    {
     "name": "stdout",
     "output_type": "stream",
     "text": [
      "{'first': 'a', 'second': 'b'}\n"
     ]
    }
   ],
   "source": [
    "def keywordFunc(**kwargs):\n",
    "    return kwargs\n",
    "\n",
    "print(keywordFunc(first='a', second='b'))"
   ]
  }
 ],
 "metadata": {
  "kernelspec": {
   "display_name": "engravings",
   "language": "python",
   "name": "python3"
  },
  "language_info": {
   "codemirror_mode": {
    "name": "ipython",
    "version": 3
   },
   "file_extension": ".py",
   "mimetype": "text/x-python",
   "name": "python",
   "nbconvert_exporter": "python",
   "pygments_lexer": "ipython3",
   "version": "3.12.7"
  }
 },
 "nbformat": 4,
 "nbformat_minor": 5
}
